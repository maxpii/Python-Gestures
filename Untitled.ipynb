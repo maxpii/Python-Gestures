{
 "cells": [
  {
   "cell_type": "code",
   "execution_count": null,
   "id": "75d7a93e-6b8b-483d-b5dc-98e1e08980a8",
   "metadata": {},
   "outputs": [],
   "source": []
  }
 ],
 "metadata": {
  "kernelspec": {
   "display_name": "",
   "name": ""
  },
  "language_info": {
   "name": ""
  }
 },
 "nbformat": 4,
 "nbformat_minor": 5
}
